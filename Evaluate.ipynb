{
 "cells": [
  {
   "cell_type": "code",
   "execution_count": 3,
   "id": "ddbc4a85",
   "metadata": {},
   "outputs": [],
   "source": [
    "import pandas as pd\n",
    "import numpy as np\n",
    "import matplotlib.pyplot as plt"
   ]
  },
  {
   "cell_type": "code",
   "execution_count": 18,
   "id": "93b921b0",
   "metadata": {},
   "outputs": [],
   "source": [
    "\n",
    "GAME = 'flappy_bird_q_learning'\n",
    "s_file = open(\"logs_\" + GAME + \"/std_out.txt\", 'r')"
   ]
  },
  {
   "cell_type": "code",
   "execution_count": 19,
   "id": "0e99bd41",
   "metadata": {},
   "outputs": [],
   "source": [
    "item = s_file.read()"
   ]
  },
  {
   "cell_type": "code",
   "execution_count": 20,
   "id": "612a9b64",
   "metadata": {},
   "outputs": [],
   "source": [
    "data_split = data.split(\"\\n\")"
   ]
  },
  {
   "cell_type": "code",
   "execution_count": 29,
   "id": "ba10dafd",
   "metadata": {},
   "outputs": [],
   "source": [
    "lines = item.strip().split('\\n')\n",
    "data_list = []\n",
    "\n",
    "current_game = 1  # Initialize the game counter\n",
    "for line in lines:\n",
    "    parts = line.split(',')\n",
    "    frame_part = parts[0].split(' ')\n",
    "    data_dict = {'FRAME': int(frame_part[1]), 'GAME': current_game}\n",
    "    data_dict.update(dict(item.split(' ') for item in parts[1:]))\n",
    "    data_list.append(data_dict)\n",
    "\n",
    "    if data_dict['REWARD'] == \"-1\":\n",
    "        current_game += 1\n"
   ]
  },
  {
   "cell_type": "code",
   "execution_count": 30,
   "id": "70006b71",
   "metadata": {},
   "outputs": [],
   "source": [
    "\n",
    "df = pd.DataFrame(data_list)\n"
   ]
  },
  {
   "cell_type": "code",
   "execution_count": 32,
   "id": "8561605e",
   "metadata": {},
   "outputs": [],
   "source": [
    "numeric_columns = ['EPSILON', 'ACTION', 'REWARD', 'Q_MAX', 'GAME']\n",
    "df[numeric_columns] = df[numeric_columns].apply(pd.to_numeric, errors='coerce')\n"
   ]
  },
  {
   "cell_type": "code",
   "execution_count": 33,
   "id": "91f4b56e",
   "metadata": {},
   "outputs": [
    {
     "data": {
      "text/html": [
       "<div>\n",
       "<style scoped>\n",
       "    .dataframe tbody tr th:only-of-type {\n",
       "        vertical-align: middle;\n",
       "    }\n",
       "\n",
       "    .dataframe tbody tr th {\n",
       "        vertical-align: top;\n",
       "    }\n",
       "\n",
       "    .dataframe thead th {\n",
       "        text-align: right;\n",
       "    }\n",
       "</style>\n",
       "<table border=\"1\" class=\"dataframe\">\n",
       "  <thead>\n",
       "    <tr style=\"text-align: right;\">\n",
       "      <th></th>\n",
       "      <th>FRAME</th>\n",
       "      <th>GAME</th>\n",
       "      <th>STATE</th>\n",
       "      <th>EPSILON</th>\n",
       "      <th>ACTION</th>\n",
       "      <th>REWARD</th>\n",
       "      <th>Q_MAX</th>\n",
       "    </tr>\n",
       "  </thead>\n",
       "  <tbody>\n",
       "    <tr>\n",
       "      <th>0</th>\n",
       "      <td>1</td>\n",
       "      <td>1</td>\n",
       "      <td>observe</td>\n",
       "      <td>0.10000</td>\n",
       "      <td>0</td>\n",
       "      <td>0.1</td>\n",
       "      <td>0.999977</td>\n",
       "    </tr>\n",
       "    <tr>\n",
       "      <th>1</th>\n",
       "      <td>2</td>\n",
       "      <td>1</td>\n",
       "      <td>observe</td>\n",
       "      <td>0.10000</td>\n",
       "      <td>0</td>\n",
       "      <td>0.1</td>\n",
       "      <td>0.999973</td>\n",
       "    </tr>\n",
       "    <tr>\n",
       "      <th>2</th>\n",
       "      <td>3</td>\n",
       "      <td>1</td>\n",
       "      <td>observe</td>\n",
       "      <td>0.10000</td>\n",
       "      <td>0</td>\n",
       "      <td>0.1</td>\n",
       "      <td>0.999882</td>\n",
       "    </tr>\n",
       "    <tr>\n",
       "      <th>3</th>\n",
       "      <td>4</td>\n",
       "      <td>1</td>\n",
       "      <td>observe</td>\n",
       "      <td>0.10000</td>\n",
       "      <td>0</td>\n",
       "      <td>0.1</td>\n",
       "      <td>0.999815</td>\n",
       "    </tr>\n",
       "    <tr>\n",
       "      <th>4</th>\n",
       "      <td>5</td>\n",
       "      <td>1</td>\n",
       "      <td>observe</td>\n",
       "      <td>0.10000</td>\n",
       "      <td>0</td>\n",
       "      <td>0.1</td>\n",
       "      <td>0.999949</td>\n",
       "    </tr>\n",
       "    <tr>\n",
       "      <th>...</th>\n",
       "      <td>...</td>\n",
       "      <td>...</td>\n",
       "      <td>...</td>\n",
       "      <td>...</td>\n",
       "      <td>...</td>\n",
       "      <td>...</td>\n",
       "      <td>...</td>\n",
       "    </tr>\n",
       "    <tr>\n",
       "      <th>261957</th>\n",
       "      <td>261958</td>\n",
       "      <td>7182</td>\n",
       "      <td>explore</td>\n",
       "      <td>0.09161</td>\n",
       "      <td>0</td>\n",
       "      <td>0.1</td>\n",
       "      <td>0.311408</td>\n",
       "    </tr>\n",
       "    <tr>\n",
       "      <th>261958</th>\n",
       "      <td>261959</td>\n",
       "      <td>7182</td>\n",
       "      <td>explore</td>\n",
       "      <td>0.09161</td>\n",
       "      <td>0</td>\n",
       "      <td>0.1</td>\n",
       "      <td>0.157104</td>\n",
       "    </tr>\n",
       "    <tr>\n",
       "      <th>261959</th>\n",
       "      <td>261960</td>\n",
       "      <td>7182</td>\n",
       "      <td>explore</td>\n",
       "      <td>0.09161</td>\n",
       "      <td>0</td>\n",
       "      <td>-1.0</td>\n",
       "      <td>0.000072</td>\n",
       "    </tr>\n",
       "    <tr>\n",
       "      <th>261960</th>\n",
       "      <td>261961</td>\n",
       "      <td>7183</td>\n",
       "      <td>explore</td>\n",
       "      <td>0.09161</td>\n",
       "      <td>0</td>\n",
       "      <td>0.1</td>\n",
       "      <td>0.999984</td>\n",
       "    </tr>\n",
       "    <tr>\n",
       "      <th>261961</th>\n",
       "      <td>261962</td>\n",
       "      <td>7183</td>\n",
       "      <td>explore</td>\n",
       "      <td>0.09161</td>\n",
       "      <td>0</td>\n",
       "      <td>0.1</td>\n",
       "      <td>0.999968</td>\n",
       "    </tr>\n",
       "  </tbody>\n",
       "</table>\n",
       "<p>261962 rows × 7 columns</p>\n",
       "</div>"
      ],
      "text/plain": [
       "         FRAME  GAME    STATE  EPSILON  ACTION  REWARD     Q_MAX\n",
       "0            1     1  observe  0.10000       0     0.1  0.999977\n",
       "1            2     1  observe  0.10000       0     0.1  0.999973\n",
       "2            3     1  observe  0.10000       0     0.1  0.999882\n",
       "3            4     1  observe  0.10000       0     0.1  0.999815\n",
       "4            5     1  observe  0.10000       0     0.1  0.999949\n",
       "...        ...   ...      ...      ...     ...     ...       ...\n",
       "261957  261958  7182  explore  0.09161       0     0.1  0.311408\n",
       "261958  261959  7182  explore  0.09161       0     0.1  0.157104\n",
       "261959  261960  7182  explore  0.09161       0    -1.0  0.000072\n",
       "261960  261961  7183  explore  0.09161       0     0.1  0.999984\n",
       "261961  261962  7183  explore  0.09161       0     0.1  0.999968\n",
       "\n",
       "[261962 rows x 7 columns]"
      ]
     },
     "execution_count": 33,
     "metadata": {},
     "output_type": "execute_result"
    }
   ],
   "source": [
    "df"
   ]
  },
  {
   "cell_type": "code",
   "execution_count": 40,
   "id": "cee1fccd",
   "metadata": {},
   "outputs": [
    {
     "data": {
      "image/png": "[encoded data removed]",
      "text/plain": [
       "<Figure size 640x480 with 1 Axes>"
      ]
     },
     "metadata": {},
     "output_type": "display_data"
    }
   ],
   "source": [
    "# Calculate total rewards per game\n",
    "total_rewards_per_game = df.groupby('GAME')['REWARD'].sum()\n"
   ]
  },
  {
   "cell_type": "code",
   "execution_count": 41,
   "id": "51c2700e",
   "metadata": {},
   "outputs": [
    {
     "data": {
      "image/png": "[encoded data removed]",
      "text/plain": [
       "<Figure size 640x480 with 1 Axes>"
      ]
     },
     "metadata": {},
     "output_type": "display_data"
    }
   ],
   "source": [
    "\n",
    "top_10_games = total_rewards_per_game.nlargest(10)\n",
    "# Plotting with labels\n",
    "plt.bar(top_10_games.index, top_10_games.values)\n",
    "plt.xlabel('Game Number')\n",
    "plt.ylabel('Total Reward')\n",
    "plt.title('Total Rewards per Game')\n",
    "plt.xticks(top_10_games.index)\n",
    "plt.show()"
   ]
  },
  {
   "cell_type": "code",
   "execution_count": 52,
   "id": "ca4fdb86",
   "metadata": {},
   "outputs": [
    {
     "data": {
      "text/plain": [
       "<Axes: xlabel='GAME'>"
      ]
     },
     "execution_count": 52,
     "metadata": {},
     "output_type": "execute_result"
    },
    {
     "data": {
      "image/png": "[encoded data removed]",
      "text/plain": [
       "<Figure size 640x480 with 1 Axes>"
      ]
     },
     "metadata": {},
     "output_type": "display_data"
    }
   ],
   "source": [
    "pd.DataFrame(top_10_games).plot(kind='bar')"
   ]
  },
  {
   "cell_type": "code",
   "execution_count": 55,
   "id": "fbdf5730",
   "metadata": {},
   "outputs": [
    {
     "data": {
      "text/html": [
       "<div>\n",
       "<style scoped>\n",
       "    .dataframe tbody tr th:only-of-type {\n",
       "        vertical-align: middle;\n",
       "    }\n",
       "\n",
       "    .dataframe tbody tr th {\n",
       "        vertical-align: top;\n",
       "    }\n",
       "\n",
       "    .dataframe thead th {\n",
       "        text-align: right;\n",
       "    }\n",
       "</style>\n",
       "<table border=\"1\" class=\"dataframe\">\n",
       "  <thead>\n",
       "    <tr style=\"text-align: right;\">\n",
       "      <th></th>\n",
       "      <th>FRAME</th>\n",
       "      <th>GAME</th>\n",
       "      <th>EPSILON</th>\n",
       "      <th>ACTION</th>\n",
       "      <th>REWARD</th>\n",
       "      <th>Q_MAX</th>\n",
       "    </tr>\n",
       "  </thead>\n",
       "  <tbody>\n",
       "    <tr>\n",
       "      <th>count</th>\n",
       "      <td>261962.000000</td>\n",
       "      <td>261962.000000</td>\n",
       "      <td>261962.000000</td>\n",
       "      <td>261962.000000</td>\n",
       "      <td>261962.000000</td>\n",
       "      <td>2.619620e+05</td>\n",
       "    </tr>\n",
       "    <tr>\n",
       "      <th>mean</th>\n",
       "      <td>130981.500000</td>\n",
       "      <td>3570.976607</td>\n",
       "      <td>0.095965</td>\n",
       "      <td>0.047129</td>\n",
       "      <td>0.070571</td>\n",
       "      <td>7.942454e-01</td>\n",
       "    </tr>\n",
       "    <tr>\n",
       "      <th>std</th>\n",
       "      <td>75622.059946</td>\n",
       "      <td>2071.506425</td>\n",
       "      <td>0.002508</td>\n",
       "      <td>0.211915</td>\n",
       "      <td>0.181558</td>\n",
       "      <td>3.210283e-01</td>\n",
       "    </tr>\n",
       "    <tr>\n",
       "      <th>min</th>\n",
       "      <td>1.000000</td>\n",
       "      <td>1.000000</td>\n",
       "      <td>0.091610</td>\n",
       "      <td>0.000000</td>\n",
       "      <td>-1.000000</td>\n",
       "      <td>6.104868e-10</td>\n",
       "    </tr>\n",
       "    <tr>\n",
       "      <th>25%</th>\n",
       "      <td>65491.250000</td>\n",
       "      <td>1786.000000</td>\n",
       "      <td>0.093791</td>\n",
       "      <td>0.000000</td>\n",
       "      <td>0.100000</td>\n",
       "      <td>6.915870e-01</td>\n",
       "    </tr>\n",
       "    <tr>\n",
       "      <th>50%</th>\n",
       "      <td>130981.500000</td>\n",
       "      <td>3556.000000</td>\n",
       "      <td>0.095971</td>\n",
       "      <td>0.000000</td>\n",
       "      <td>0.100000</td>\n",
       "      <td>9.915651e-01</td>\n",
       "    </tr>\n",
       "    <tr>\n",
       "      <th>75%</th>\n",
       "      <td>196471.750000</td>\n",
       "      <td>5372.000000</td>\n",
       "      <td>0.098152</td>\n",
       "      <td>0.000000</td>\n",
       "      <td>0.100000</td>\n",
       "      <td>9.997361e-01</td>\n",
       "    </tr>\n",
       "    <tr>\n",
       "      <th>max</th>\n",
       "      <td>261962.000000</td>\n",
       "      <td>7183.000000</td>\n",
       "      <td>0.100000</td>\n",
       "      <td>1.000000</td>\n",
       "      <td>1.000000</td>\n",
       "      <td>1.000000e+00</td>\n",
       "    </tr>\n",
       "  </tbody>\n",
       "</table>\n",
       "</div>"
      ],
      "text/plain": [
       "               FRAME           GAME        EPSILON         ACTION  \\\n",
       "count  261962.000000  261962.000000  261962.000000  261962.000000   \n",
       "mean   130981.500000    3570.976607       0.095965       0.047129   \n",
       "std     75622.059946    2071.506425       0.002508       0.211915   \n",
       "min         1.000000       1.000000       0.091610       0.000000   \n",
       "25%     65491.250000    1786.000000       0.093791       0.000000   \n",
       "50%    130981.500000    3556.000000       0.095971       0.000000   \n",
       "75%    196471.750000    5372.000000       0.098152       0.000000   \n",
       "max    261962.000000    7183.000000       0.100000       1.000000   \n",
       "\n",
       "              REWARD         Q_MAX  \n",
       "count  261962.000000  2.619620e+05  \n",
       "mean        0.070571  7.942454e-01  \n",
       "std         0.181558  3.210283e-01  \n",
       "min        -1.000000  6.104868e-10  \n",
       "25%         0.100000  6.915870e-01  \n",
       "50%         0.100000  9.915651e-01  \n",
       "75%         0.100000  9.997361e-01  \n",
       "max         1.000000  1.000000e+00  "
      ]
     },
     "execution_count": 55,
     "metadata": {},
     "output_type": "execute_result"
    }
   ],
   "source": [
    "df.describe()"
   ]
  },
  {
   "cell_type": "code",
   "execution_count": 56,
   "id": "53c96ca6",
   "metadata": {},
   "outputs": [
    {
     "data": {
      "text/plain": [
       "GAME\n",
       "5467    13.6\n",
       "27      13.1\n",
       "1557    13.1\n",
       "4355    13.1\n",
       "2353    13.0\n",
       "6077    13.0\n",
       "2723    11.0\n",
       "5205    10.5\n",
       "6671    10.5\n",
       "1267     9.3\n",
       "Name: REWARD, dtype: float64"
      ]
     },
     "execution_count": 56,
     "metadata": {},
     "output_type": "execute_result"
    }
   ],
   "source": [
    "top_10_games"
   ]
  },
  {
   "cell_type": "code",
   "execution_count": null,
   "id": "82579aa8",
   "metadata": {},
   "outputs": [],
   "source": []
  }
 ],
 "metadata": {
  "kernelspec": {
   "display_name": "Python 3 (ipykernel)",
   "language": "python",
   "name": "python3"
  },
  "language_info": {
   "codemirror_mode": {
    "name": "ipython",
    "version": 3
   },
   "file_extension": ".py",
   "mimetype": "text/x-python",
   "name": "python",
   "nbconvert_exporter": "python",
   "pygments_lexer": "ipython3",
   "version": "3.9.18"
  }
 },
 "nbformat": 4,
 "nbformat_minor": 5
}
